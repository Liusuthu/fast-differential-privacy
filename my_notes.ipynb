{
 "cells": [
  {
   "cell_type": "markdown",
   "metadata": {},
   "source": [
    "# Privacy Engine使用方法"
   ]
  },
  {
   "cell_type": "code",
   "execution_count": null,
   "metadata": {},
   "outputs": [],
   "source": [
    "import torch\n",
    "from fastDP import PrivacyEngine\n",
    "optimizer = SGD(model.parameters(), lr=0.05)\n",
    "privacy_engine = PrivacyEngine(\n",
    "    model,\n",
    "    batch_size=256,\n",
    "    sample_size=50000,\n",
    "    epochs=3,\n",
    "    target_epsilon=2,\n",
    "    clipping_fn='automatic',\n",
    "    clipping_mode='MixOpt',\n",
    "    origin_params=None,\n",
    "    clipping_style='all-layer',\n",
    ")\n",
    "# attaching to optimizers is not needed for multi-GPU distributed learning\n",
    "privacy_engine.attach(optimizer) \n",
    "\n",
    "#----- standard training pipeline\n",
    "loss = F.cross_entropy(model(batch), labels)\n",
    "loss.backward()\n",
    "optimizer.step()\n",
    "optimizer.zero_grad()"
   ]
  }
 ],
 "metadata": {
  "kernelspec": {
   "display_name": "http",
   "language": "python",
   "name": "python3"
  },
  "language_info": {
   "name": "python",
   "version": "3.8.8"
  }
 },
 "nbformat": 4,
 "nbformat_minor": 2
}
